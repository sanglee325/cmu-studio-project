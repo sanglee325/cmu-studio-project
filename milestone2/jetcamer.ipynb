{
 "cells": [
  {
   "cell_type": "code",
   "execution_count": 1,
   "id": "29518b6e",
   "metadata": {},
   "outputs": [],
   "source": [
    "from jetcam.csi_camera import CSICamera\n",
    "from jetcam.utils import bgr8_to_jpeg\n",
    "import ipywidgets\n",
    "from IPython.display import display\n",
    "\n",
    "camera = CSICamera(width=224, height=224, capture_device=0)\n",
    "\n",
    "image_widget = ipywidgets.Image(format='jpeg')\n"
   ]
  },
  {
   "cell_type": "code",
   "execution_count": 4,
   "id": "e9d1a02e",
   "metadata": {},
   "outputs": [
    {
     "data": {
      "application/vnd.jupyter.widget-view+json": {
       "model_id": "c16d3da1303042ed9e21029c7fe042b8",
       "version_major": 2,
       "version_minor": 0
      },
      "text/plain": [
       "Image(value=b'', format='jpeg')"
      ]
     },
     "metadata": {},
     "output_type": "display_data"
    }
   ],
   "source": [
    "image_widget = ipywidgets.Image(format='jpeg')\n",
    "camera.running = True\n",
    "\n",
    "def update_image(change):\n",
    "    image = change['new']\n",
    "    image_widget.value = bgr8_to_jpeg(image)\n",
    "\n",
    "camera.observe(update_image, names='value')\n",
    "display(image_widget)"
   ]
  },
  {
   "cell_type": "code",
   "execution_count": 5,
   "id": "8fc451a0",
   "metadata": {},
   "outputs": [],
   "source": [
    "camera.running=False # camera off\n",
    "#camera.unobserve(update_image, names='value')"
   ]
  },
  {
   "cell_type": "code",
   "execution_count": null,
   "id": "d457c486",
   "metadata": {},
   "outputs": [],
   "source": [
    "import traitlets\n",
    "\n",
    "camera_link = traitlets.dlink((camera, 'value'), (image_widget, 'value'), transform=bgr8_to_jpeg)"
   ]
  }
 ],
 "metadata": {
  "kernelspec": {
   "display_name": "Python 3",
   "language": "python",
   "name": "python3"
  },
  "language_info": {
   "codemirror_mode": {
    "name": "ipython",
    "version": 3
   },
   "file_extension": ".py",
   "mimetype": "text/x-python",
   "name": "python",
   "nbconvert_exporter": "python",
   "pygments_lexer": "ipython3",
   "version": "3.6.9"
  }
 },
 "nbformat": 4,
 "nbformat_minor": 5
}
