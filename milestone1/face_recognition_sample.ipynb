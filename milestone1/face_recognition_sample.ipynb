{
 "cells": [
  {
   "cell_type": "code",
   "execution_count": null,
   "metadata": {},
   "outputs": [],
   "source": [
    "import face_recognition\n",
    "import cv2\n",
    "import numpy as np\n",
    "import matplotlib.pyplot as plt"
   ]
  },
  {
   "cell_type": "code",
   "execution_count": null,
   "metadata": {},
   "outputs": [],
   "source": [
    "video = \"ShortTC-TG.mp4\"\n",
    "video_capture = cv2.VideoCapture(video)\n",
    "\n",
    "frame_width = int(video_capture.get(3))\n",
    "frame_height = int(video_capture.get(4))"
   ]
  },
  {
   "cell_type": "code",
   "execution_count": null,
   "metadata": {},
   "outputs": [],
   "source": [
    "fourcc = cv2.VideoWriter_fourcc('m', 'p', '4', 'v')\n",
    "\n",
    "out = cv2.VideoWriter('folder/path/facesTG.mp4', fourcc, 15.0, (frame_width, frame_height))"
   ]
  },
  {
   "cell_type": "code",
   "execution_count": null,
   "metadata": {},
   "outputs": [],
   "source": [
    "# Load a sample picture and learn how to recognize it.\n",
    "tom_image = face_recognition.load_image_file(\"pics/tom.jpg\")\n",
    "tom_face_encoding = face_recognition.face_encodings(tom_image)[0]\n",
    "\n",
    "# Load a second sample picture and learn how to recognize it.\n",
    "anthony_image = face_recognition.load_image_file(\"pics/anthony.jpg\")\n",
    "anthony_face_encoding = face_recognition.face_encodings(anthony_image)[0]\n",
    "\n",
    "# Load a third sample picture and learn how to recognize it.\n",
    "val_image = face_recognition.load_image_file(\"pics/val.jpg\")\n",
    "val_face_encoding = face_recognition.face_encodings(val_image)[0]\n",
    "\n",
    "# Load a fourth sample picture and learn how to recognize it.\n",
    "skerritt_image = face_recognition.load_image_file(\"pics/skerritt.jpg\")\n",
    "skerritt_face_encoding = face_recognition.face_encodings(skerritt_image)[0]"
   ]
  },
  {
   "cell_type": "code",
   "execution_count": null,
   "metadata": {},
   "outputs": [],
   "source": [
    "# Create arrays of known face encodings and their names\n",
    "known_face_encodings = [\n",
    "    tom_face_encoding,\n",
    "    anthony_face_encoding,\n",
    "    val_face_encoding,\n",
    "    skerritt_face_encoding\n",
    "]\n",
    "known_face_names = [\n",
    "    \"Tom Cruise\",\n",
    "    \"Anthony Edwards\",\n",
    "    \"Val Kilmer\",\n",
    "    \"Tom Skerritt\"\n",
    "]"
   ]
  },
  {
   "cell_type": "code",
   "execution_count": null,
   "metadata": {},
   "outputs": [],
   "source": [
    "# Initialize some variables\n",
    "face_locations = []\n",
    "face_encodings = []\n",
    "face_names = []\n",
    "process_this_frame = True\n",
    "frames = []"
   ]
  },
  {
   "cell_type": "code",
   "execution_count": null,
   "metadata": {},
   "outputs": [],
   "source": [
    "while True:\n",
    "    # Grab a single frame of video\n",
    "    ret, frame = video_capture.read()\n",
    "\n",
    "    # Resize frame of video to 1/4 size for faster face recognition processing\n",
    "    small_frame = cv2.resize(frame, (0, 0), fx=0.25, fy=0.25)\n",
    "\n",
    "    # Convert the image from BGR color (which OpenCV uses) to RGB color (which face_recognition uses)\n",
    "    rgb_small_frame = small_frame[:, :, ::-1]\n",
    "\n",
    "    # Only process every other frame of video to save time\n",
    "    if process_this_frame:\n",
    "        # Find all the faces and face encodings in the current frame of video\n",
    "        face_locations = face_recognition.face_locations(rgb_small_frame)\n",
    "        face_encodings = face_recognition.face_encodings(rgb_small_frame, face_locations)\n",
    "\n",
    "        face_names = []\n",
    "        for face_encoding in face_encodings:\n",
    "            # See if the face is a match for the known face(s)\n",
    "            matches = face_recognition.compare_faces(known_face_encodings, face_encoding)\n",
    "            name = \"Unknown\"\n",
    "\n",
    "            # # If a match was found in known_face_encodings, just use the first one.\n",
    "            # if True in matches:\n",
    "            #     first_match_index = matches.index(True)\n",
    "            #     name = known_face_names[first_match_index]\n",
    "\n",
    "            # Or instead, use the known face with the smallest distance to the new face\n",
    "            face_distances = face_recognition.face_distance(known_face_encodings, face_encoding)\n",
    "            best_match_index = np.argmin(face_distances)\n",
    "            if matches[best_match_index]:\n",
    "                name = known_face_names[best_match_index]\n",
    "\n",
    "            face_names.append(name)\n",
    "\n",
    "    process_this_frame = not process_this_frame\n",
    "\n",
    "\n",
    "    # Display the results\n",
    "    for (top, right, bottom, left), name in zip(face_locations, face_names):\n",
    "        # Scale back up face locations since the frame we detected in was scaled to 1/4 size\n",
    "        top *= 4\n",
    "        right *= 4\n",
    "        bottom *= 4\n",
    "        left *= 4\n",
    "\n",
    "        # Draw a box around the face\n",
    "        cv2.rectangle(frame, (left, top), (right, bottom), (0, 0, 255), 2)\n",
    "\n",
    "        # Draw a label with a name below the face\n",
    "        cv2.rectangle(frame, (left, bottom - 35), (right, bottom), (0, 0, 255), cv2.FILLED)\n",
    "        font = cv2.FONT_HERSHEY_DUPLEX\n",
    "        cv2.putText(frame, name, (left + 6, bottom - 6), font, 1.0, (255, 255, 255), 1)\n",
    "\n",
    "    # Display the resulting image\n",
    "    plt.imshow(frame)\n",
    "    plt.show(frame)\n",
    "    # cv2.imshow('Video', frame)\n",
    "    out.write(frame)\n",
    "\n",
    "    # Hit 'q' on the keyboard to quit!\n",
    "    # if cv2.waitKey(1) & 0xFF == ord('q'):\n",
    "        # break"
   ]
  },
  {
   "cell_type": "code",
   "execution_count": null,
   "metadata": {},
   "outputs": [],
   "source": [
    "# Release handle to the webcam\n",
    "video_capture.release()\n",
    "# cv2.destroyAllWindows()"
   ]
  }
 ],
 "metadata": {
  "interpreter": {
   "hash": "ab5325a40e878d66c76f034ece3ea9fcb7f70347e85ddb927190b439c9416f58"
  },
  "kernelspec": {
   "display_name": "Python 3.8.13 ('csp')",
   "language": "python",
   "name": "python3"
  },
  "language_info": {
   "name": "python",
   "version": "3.8.13"
  },
  "orig_nbformat": 4
 },
 "nbformat": 4,
 "nbformat_minor": 2
}
